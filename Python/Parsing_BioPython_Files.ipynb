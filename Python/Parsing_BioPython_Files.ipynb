{
 "cells": [
  {
   "cell_type": "markdown",
   "metadata": {},
   "source": [
    "# Python Project Part 2: Data Parsing with Biopython"
   ]
  },
  {
   "cell_type": "markdown",
   "metadata": {},
   "source": [
    "## Based in the Biopython tutorial Chapter 2, 5: Parsing sequence files\n",
    "Focus on Sars-COV-2 data"
   ]
  },
  {
   "cell_type": "code",
   "execution_count": 3,
   "metadata": {},
   "outputs": [],
   "source": [
    "from Bio import SeqIO"
   ]
  },
  {
   "cell_type": "markdown",
   "metadata": {},
   "source": [
    "Try these examples from Chapter 2, Sections 2.4.1 - 2.4.2\n",
    "Then complete the exercises in Chapter 5 up to and including section 5.5.3\n",
    "Note: You will need to make some compressed verions of the files\n",
    "      and for the downloaded files in the exercise, use the examples in the tutorial."
   ]
  },
  {
   "cell_type": "code",
   "execution_count": 4,
   "metadata": {},
   "outputs": [
    {
     "name": "stdout",
     "output_type": "stream",
     "text": [
      "MT081068.1\n",
      "Seq('ATGTCTGATAATGGACCCCAAAATCAGCGAAATGCACCCCGCATTACGTTTGGT...TAA', SingleLetterAlphabet())\n",
      "1260\n",
      "MT072667.1\n",
      "Seq('GTAGATGCTGTAAATTTACTTACTAATATGTTTACACCACTAATTCAACCTATT...ACT', SingleLetterAlphabet())\n",
      "670\n",
      "MT066159.1\n",
      "Seq('TAAACACCTCATACCACTTATGTACAAAGGACTTCCTTGGAATGTAGTGCGTAT...TTG', SingleLetterAlphabet())\n",
      "290\n",
      "MT050416.1\n",
      "Seq('TGATAGAGCCATGCCTAACATGCTTAGAATTATGGCCTCACTTGTTCTTGCTCG...CCT', SingleLetterAlphabet())\n",
      "562\n",
      "MT161607.1\n",
      "Seq('TACCTTCCCAGGTAACAAACCAACCAACTTTCGATCTCTTGTAGATCTGTTCTC...AAA', SingleLetterAlphabet())\n",
      "253\n"
     ]
    }
   ],
   "source": [
    "for seq_record in SeqIO.parse(\"sarscov2.fasta\", \"fasta\"):\n",
    "    print(seq_record.id)\n",
    "    print(repr(seq_record.seq))\n",
    "    print(len(seq_record))"
   ]
  },
  {
   "cell_type": "code",
   "execution_count": 5,
   "metadata": {},
   "outputs": [
    {
     "name": "stdout",
     "output_type": "stream",
     "text": [
      "MT081068.1\n",
      "Seq('ATGTCTGATAATGGACCCCAAAATCAGCGAAATGCACCCCGCATTACGTTTGGT...TAA', IUPACAmbiguousDNA())\n",
      "1260\n",
      "MT072667.1\n",
      "Seq('GTAGATGCTGTAAATTTACTTACTAATATGTTTACACCACTAATTCAACCTATT...ACT', IUPACAmbiguousDNA())\n",
      "670\n",
      "MT066159.1\n",
      "Seq('TAAACACCTCATACCACTTATGTACAAAGGACTTCCTTGGAATGTAGTGCGTAT...TTG', IUPACAmbiguousDNA())\n",
      "290\n",
      "MT050416.1\n",
      "Seq('TGATAGAGCCATGCCTAACATGCTTAGAATTATGGCCTCACTTGTTCTTGCTCG...CCT', IUPACAmbiguousDNA())\n",
      "562\n",
      "MT161607.1\n",
      "Seq('TACCTTCCCAGGTAACAAACCAACCAACTTTCGATCTCTTGTAGATCTGTTCTC...AAA', IUPACAmbiguousDNA())\n",
      "253\n"
     ]
    }
   ],
   "source": [
    "for seq_record in SeqIO.parse(\"sarscov2.gbk\", \"genbank\"):\n",
    "    print(seq_record.id)\n",
    "    print(repr(seq_record.seq))\n",
    "    print(len(seq_record))"
   ]
  },
  {
   "cell_type": "markdown",
   "metadata": {},
   "source": [
    "# CHAPTER 5 Tutorial Below"
   ]
  },
  {
   "cell_type": "markdown",
   "metadata": {},
   "source": [
    "Sections 5.1 to 5.5.3\n",
    "Make sure to put in a few notes with the markdown language. Briefly explain what each part is doing."
   ]
  },
  {
   "cell_type": "code",
   "execution_count": 6,
   "metadata": {},
   "outputs": [
    {
     "data": {
      "text/plain": [
       "['MT081068.1', 'MT072667.1', 'MT066159.1', 'MT050416.1', 'MT161607.1']"
      ]
     },
     "execution_count": 6,
     "metadata": {},
     "output_type": "execute_result"
    }
   ],
   "source": [
    "identifiers = [seq_record.id for seq_record in SeqIO.parse(\"sarscov2.gbk\", \"genbank\")]\n",
    "identifiers"
   ]
  },
  {
   "cell_type": "markdown",
   "metadata": {},
   "source": [
    "5.1.2  Iterating over the records in a sequence file"
   ]
  },
  {
   "cell_type": "markdown",
   "metadata": {},
   "source": [
    "The Object returned by SEQIO.parse is a iterator so we can use next to iterate over "
   ]
  },
  {
   "cell_type": "code",
   "execution_count": 7,
   "metadata": {},
   "outputs": [
    {
     "name": "stdout",
     "output_type": "stream",
     "text": [
      "ID: MT081068.1\n",
      "Name: MT081068\n",
      "Description: Severe acute respiratory syndrome coronavirus 2 isolate SARS-CoV-2/HS_194/human/2020/CHN nucleocapsid phosphoprotein (N) gene, complete cds\n",
      "Number of features: 3\n",
      "/molecule_type=RNA\n",
      "/topology=linear\n",
      "/data_file_division=VRL\n",
      "/date=20-FEB-2020\n",
      "/accessions=['MT081068']\n",
      "/sequence_version=1\n",
      "/keywords=['']\n",
      "/source=Severe acute respiratory syndrome coronavirus 2 (SARS-CoV-2)\n",
      "/organism=Severe acute respiratory syndrome coronavirus 2\n",
      "/taxonomy=['Viruses', 'Riboviria', 'Nidovirales', 'Cornidovirineae', 'Coronaviridae', 'Orthocoronavirinae', 'Betacoronavirus', 'Sarbecovirus']\n",
      "/references=[Reference(title='Optimizing diagnostic strategy for novel coronavirus pneumonia, a multi-center study in Eastern China', ...), Reference(title='Direct Submission', ...)]\n",
      "/structured_comment=OrderedDict([('Assembly-Data', OrderedDict([('Assembly Method', 'SPAdes v. v3.13'), ('Sequencing Technology', 'Illumina')]))])\n",
      "Seq('ATGTCTGATAATGGACCCCAAAATCAGCGAAATGCACCCCGCATTACGTTTGGT...TAA', IUPACAmbiguousDNA())\n"
     ]
    }
   ],
   "source": [
    "record_iterator = SeqIO.parse(\"sarscov2.gbk\", \"genbank\")\n",
    "first_record = next(record_iterator)\n",
    "print(first_record)"
   ]
  },
  {
   "cell_type": "code",
   "execution_count": 8,
   "metadata": {},
   "outputs": [
    {
     "name": "stdout",
     "output_type": "stream",
     "text": [
      "MT081068.1\n",
      "MT081068.1 Severe acute respiratory syndrome coronavirus 2 isolate SARS-CoV-2/HS_194/human/2020/CHN nucleocapsid phosphoprotein (N) gene, complete cds\n",
      "MT072667.1\n",
      "MT072667.1 Severe acute respiratory syndrome coronavirus 2 isolate SARS-CoV-2/GHB-03021/human/2020/BEL orf1ab polyprotein gene, partial cds\n"
     ]
    }
   ],
   "source": [
    "record_iterator = SeqIO.parse(\"sarscov2.fasta\", \"fasta\")\n",
    "\n",
    "first_record = next(record_iterator)\n",
    "print(first_record.id)\n",
    "print(first_record.description)\n",
    "\n",
    "second_record = next(record_iterator)\n",
    "print(second_record.id)\n",
    "print(second_record.description)\n"
   ]
  },
  {
   "cell_type": "code",
   "execution_count": 9,
   "metadata": {},
   "outputs": [
    {
     "data": {
      "text/plain": [
       "SeqRecord(seq=Seq('ATGTCTGATAATGGACCCCAAAATCAGCGAAATGCACCCCGCATTACGTTTGGT...TAA', IUPACAmbiguousDNA()), id='MT081068.1', name='MT081068', description='Severe acute respiratory syndrome coronavirus 2 isolate SARS-CoV-2/HS_194/human/2020/CHN nucleocapsid phosphoprotein (N) gene, complete cds', dbxrefs=[])"
      ]
     },
     "execution_count": 9,
     "metadata": {},
     "output_type": "execute_result"
    }
   ],
   "source": [
    "first_record = next(SeqIO.parse(\"sarscov2.gbk\", \"genbank\"))\n",
    "first_record"
   ]
  },
  {
   "cell_type": "markdown",
   "metadata": {},
   "source": [
    "### 5.1.3  Getting a list of the records in a sequence file"
   ]
  },
  {
   "cell_type": "markdown",
   "metadata": {},
   "source": [
    "Using List gives the flexibility to select a record in any order"
   ]
  },
  {
   "cell_type": "code",
   "execution_count": 10,
   "metadata": {},
   "outputs": [
    {
     "name": "stdout",
     "output_type": "stream",
     "text": [
      "Found 5 records\n",
      "The last record\n",
      "MT161607.1\n",
      "Seq('TACCTTCCCAGGTAACAAACCAACCAACTTTCGATCTCTTGTAGATCTGTTCTC...AAA', IUPACAmbiguousDNA())\n",
      "253\n",
      "The first record\n",
      "MT081068.1\n",
      "Seq('ATGTCTGATAATGGACCCCAAAATCAGCGAAATGCACCCCGCATTACGTTTGGT...TAA', IUPACAmbiguousDNA())\n",
      "1260\n"
     ]
    }
   ],
   "source": [
    "records = list(SeqIO.parse(\"sarscov2.gbk\", \"genbank\"))\n",
    "\n",
    "print(\"Found %i records\" % len(records))\n",
    "\n",
    "print(\"The last record\")\n",
    "last_record = records[-1]  \n",
    "print(last_record.id)\n",
    "print(repr(last_record.seq))\n",
    "print(len(last_record))\n",
    "\n",
    "print(\"The first record\")\n",
    "first_record = records[0]  \n",
    "print(first_record.id)\n",
    "print(repr(first_record.seq))\n",
    "print(len(first_record))"
   ]
  },
  {
   "cell_type": "markdown",
   "metadata": {},
   "source": [
    "### 5.1.4  Extracting data"
   ]
  },
  {
   "cell_type": "markdown",
   "metadata": {},
   "source": [
    "Printing the Annotation"
   ]
  },
  {
   "cell_type": "code",
   "execution_count": 13,
   "metadata": {},
   "outputs": [
    {
     "name": "stdout",
     "output_type": "stream",
     "text": [
      "{'molecule_type': 'RNA', 'topology': 'linear', 'data_file_division': 'VRL', 'date': '20-FEB-2020', 'accessions': ['MT081068'], 'sequence_version': 1, 'keywords': [''], 'source': 'Severe acute respiratory syndrome coronavirus 2 (SARS-CoV-2)', 'organism': 'Severe acute respiratory syndrome coronavirus 2', 'taxonomy': ['Viruses', 'Riboviria', 'Nidovirales', 'Cornidovirineae', 'Coronaviridae', 'Orthocoronavirinae', 'Betacoronavirus', 'Sarbecovirus'], 'references': [Reference(title='Optimizing diagnostic strategy for novel coronavirus pneumonia, a multi-center study in Eastern China', ...), Reference(title='Direct Submission', ...)], 'structured_comment': OrderedDict([('Assembly-Data', OrderedDict([('Assembly Method', 'SPAdes v. v3.13'), ('Sequencing Technology', 'Illumina')]))])}\n"
     ]
    }
   ],
   "source": [
    "print(first_record.annotations)"
   ]
  },
  {
   "cell_type": "code",
   "execution_count": 15,
   "metadata": {},
   "outputs": [
    {
     "name": "stdout",
     "output_type": "stream",
     "text": [
      "Severe acute respiratory syndrome coronavirus 2 (SARS-CoV-2)\n",
      "Severe acute respiratory syndrome coronavirus 2\n"
     ]
    }
   ],
   "source": [
    "print(first_record.annotations[\"source\"])\n",
    "print(first_record.annotations[\"organism\"])"
   ]
  },
  {
   "cell_type": "markdown",
   "metadata": {},
   "source": [
    "Splitting the description and using the data in 1st column"
   ]
  },
  {
   "cell_type": "code",
   "execution_count": 30,
   "metadata": {},
   "outputs": [
    {
     "name": "stdout",
     "output_type": "stream",
     "text": [
      "[['MT081068.1', 'Severe', 'acute', 'respiratory', 'syndrome', 'coronavirus', '2', 'isolate', 'SARS-CoV-2/HS_194/human/2020/CHN', 'nucleocapsid', 'phosphoprotein', '(N)', 'gene,', 'complete', 'cds'], ['MT072667.1', 'Severe', 'acute', 'respiratory', 'syndrome', 'coronavirus', '2', 'isolate', 'SARS-CoV-2/GHB-03021/human/2020/BEL', 'orf1ab', 'polyprotein', 'gene,', 'partial', 'cds'], ['MT066159.1', 'Severe', 'acute', 'respiratory', 'syndrome', 'coronavirus', '2', 'isolate', 'SARS-CoV-2/CL5049/human/2020/MYS', 'orf1ab', 'polyprotein,', 'RdRp', 'region,', '(orf1ab)', 'gene,', 'partial', 'cds'], ['MT050416.1', 'Severe', 'acute', 'respiratory', 'syndrome', 'coronavirus', '2', 'isolate', 'SARS-CoV-2/QLD03/human/2020_FSS917/AUS', 'ORF1ab', 'polyprotein,', 'RdRp', 'region,', 'gene,', 'partial', 'cds'], ['MT161607.1', 'Severe', 'acute', 'respiratory', 'syndrome', 'coronavirus', '2', 'isolate', 'SARS-CoV-2/NIAA05032020/human/2020/ITA', \"5'\", 'UTR']]\n"
     ]
    }
   ],
   "source": [
    "all_descrip = []\n",
    "for seq_record in SeqIO.parse(\"sarscov2.fasta\", \"fasta\"):\n",
    "    all_descrip.append(seq_record.description.split()[1])\n",
    "print(all_descrip)"
   ]
  },
  {
   "cell_type": "markdown",
   "metadata": {},
   "source": [
    "Using List Comprehension"
   ]
  },
  {
   "cell_type": "code",
   "execution_count": 20,
   "metadata": {},
   "outputs": [
    {
     "name": "stdout",
     "output_type": "stream",
     "text": [
      "['Severe', 'Severe', 'Severe', 'Severe', 'Severe']\n"
     ]
    }
   ],
   "source": [
    "all_descrip = [seq_record.description.split()[1]\n",
    "    for seq_record in SeqIO.parse(\"sarscov2.fasta\", \"fasta\")\n",
    "]\n",
    "print(all_descrip)"
   ]
  },
  {
   "cell_type": "markdown",
   "metadata": {},
   "source": [
    "### 5.1.5  Modifying data"
   ]
  },
  {
   "cell_type": "code",
   "execution_count": 24,
   "metadata": {},
   "outputs": [
    {
     "name": "stdout",
     "output_type": "stream",
     "text": [
      ">new_id desired new description\n",
      "ATGTCTGATAATGGACCCCAAAATCAGCGAAATGCACCCCGCATTACGTTTGGTGGACCC\n",
      "TCAGATTCAACTGGCAGTAACCAGAATGGAGAACGCAGTGGGGCGCGATCAAAACAACGT\n",
      "CGGCCCCAAGGTTTACCCAATAATACTGCGTCTTGGTTCACCGCTC\n"
     ]
    }
   ],
   "source": [
    "record_iterator = SeqIO.parse(\"sarscov2.fasta\", \"fasta\")\n",
    "first_record = next(record_iterator)\n",
    "first_record.id = \"new_id\"\n",
    "first_record.description = first_record.id + \" \" + \"desired new description\"\n",
    "print(first_record.format(\"fasta\")[:200])"
   ]
  },
  {
   "cell_type": "markdown",
   "metadata": {},
   "source": [
    "5.2  Parsing sequences from compressed files\n",
    "Calculating the  total length of the sequences in a multiple record  in genbank file"
   ]
  },
  {
   "cell_type": "code",
   "execution_count": 25,
   "metadata": {},
   "outputs": [
    {
     "name": "stdout",
     "output_type": "stream",
     "text": [
      "3035\n"
     ]
    }
   ],
   "source": [
    "print(sum(len(r) for r in SeqIO.parse(\"sarscov2.gbk\", \"gb\")))"
   ]
  },
  {
   "cell_type": "markdown",
   "metadata": {},
   "source": [
    "Using File Handle. It will close the handle automatically"
   ]
  },
  {
   "cell_type": "code",
   "execution_count": 26,
   "metadata": {},
   "outputs": [
    {
     "name": "stdout",
     "output_type": "stream",
     "text": [
      "3035\n"
     ]
    }
   ],
   "source": [
    "with open(\"sarscov2.gbk\") as handle:\n",
    "    print(sum(len(r) for r in SeqIO.parse(handle, \"gb\")))"
   ]
  },
  {
   "cell_type": "markdown",
   "metadata": {},
   "source": [
    "Opening a gzip and bz2 file"
   ]
  },
  {
   "cell_type": "code",
   "execution_count": 28,
   "metadata": {},
   "outputs": [
    {
     "name": "stdout",
     "output_type": "stream",
     "text": [
      "3035\n"
     ]
    }
   ],
   "source": [
    "import gzip\n",
    "with gzip.open(\"sarscov2.gbk.gz\", \"rt\") as handle:\n",
    "    print(sum(len(r) for r in SeqIO.parse(handle, \"gb\")))"
   ]
  },
  {
   "cell_type": "code",
   "execution_count": 29,
   "metadata": {},
   "outputs": [],
   "source": [
    "import bz2\n",
    "handle = bz2.open(\"sarscov2.gbk.bz2\", \"rt\") \n",
    "with handle:\n",
    "    print(sum(len(r) for r in SeqIO.parse(handle, \"gb\")))"
   ]
  },
  {
   "cell_type": "markdown",
   "metadata": {},
   "source": [
    "## 5.3  Parsing sequences from the net"
   ]
  },
  {
   "cell_type": "code",
   "execution_count": 11,
   "metadata": {},
   "outputs": [
    {
     "name": "stdout",
     "output_type": "stream",
     "text": [
      "MT246490.1 with 0 features\n",
      "MT246490.1 with 21 features\n",
      "NC_045512.2 with 0 features\n"
     ]
    }
   ],
   "source": [
    "from Bio import Entrez\n",
    "\n",
    "\n",
    "Entrez.email = \"A.N.Other@example.com\"\n",
    "with Entrez.efetch(\n",
    "    db=\"nucleotide\", rettype=\"fasta\", retmode=\"text\", id=\"1824640867\"\n",
    ") as handle:\n",
    "    seq_record = SeqIO.read(handle, \"fasta\")\n",
    "print(\"%s with %i features\" % (seq_record.id, len(seq_record.features)))\n",
    "\n",
    "\n",
    "Entrez.email = \"A.N.Other@example.com\"\n",
    "with Entrez.efetch(\n",
    "    db=\"nucleotide\", rettype=\"gb\", retmode=\"text\", id=\"1824640867\"\n",
    ") as handle:\n",
    "    seq_record = SeqIO.read(handle, \"gb\")\n",
    "print(\"%s with %i features\" % (seq_record.id, len(seq_record.features)))\n",
    "\n",
    "Entrez.email = \"A.N.Other@example.com\"\n",
    "with Entrez.efetch(\n",
    "    db=\"nucleotide\", rettype=\"fasta\", retmode=\"text\", id=\"NC_045512.2\"\n",
    ") as handle:\n",
    "    seq_record = SeqIO.read(handle, \"fasta\")\n",
    "print(\"%s with %i features\" % (seq_record.id, len(seq_record.features)))\n"
   ]
  },
  {
   "cell_type": "markdown",
   "metadata": {},
   "source": [
    "Getting Multiple Records"
   ]
  },
  {
   "cell_type": "code",
   "execution_count": 14,
   "metadata": {},
   "outputs": [
    {
     "name": "stdout",
     "output_type": "stream",
     "text": [
      "MT246490.1 Severe acute respiratory syndrome coronavirus 2 isolate SARS-CoV-2/WA-UW233/human/2020/USA, complete...\n",
      "Sequence length 29850, 21 features, from: Severe acute respiratory syndrome coronavirus 2 (SARS-CoV-2)\n",
      "MT246489.1 Severe acute respiratory syndrome coronavirus 2 isolate SARS-CoV-2/WA-UW232/human/2020/USA, complete...\n",
      "Sequence length 29864, 21 features, from: Severe acute respiratory syndrome coronavirus 2 (SARS-CoV-2)\n",
      "MT246487.1 Severe acute respiratory syndrome coronavirus 2 isolate SARS-CoV-2/WA-UW230/human/2020/USA, complete...\n",
      "Sequence length 29883, 21 features, from: Severe acute respiratory syndrome coronavirus 2 (SARS-CoV-2)\n"
     ]
    }
   ],
   "source": [
    "Entrez.email = \"A.N.Other@example.com\"\n",
    "with Entrez.efetch(\n",
    "    db=\"nucleotide\", rettype=\"gb\", retmode=\"text\", id=\"1824640867,1824640856,1824640834\"\n",
    ") as handle:\n",
    "    for seq_record in SeqIO.parse(handle, \"gb\"):\n",
    "        print(\"%s %s...\" % (seq_record.id, seq_record.description[:100]))\n",
    "        print(\n",
    "            \"Sequence length %i, %i features, from: %s\"\n",
    "            % (\n",
    "                len(seq_record),\n",
    "                len(seq_record.features),\n",
    "                seq_record.annotations[\"source\"],\n",
    "            )\n",
    "        )"
   ]
  },
  {
   "cell_type": "code",
   "execution_count": 24,
   "metadata": {},
   "outputs": [
    {
     "name": "stdout",
     "output_type": "stream",
     "text": [
      "MT246490.1 with 21 features\n",
      "RNA\n",
      "['Viruses', 'Riboviria', 'Nidovirales', 'Cornidovirineae', 'Coronaviridae', 'Orthocoronavirinae', 'Betacoronavirus', 'Sarbecovirus']\n"
     ]
    }
   ],
   "source": [
    "\n",
    "Entrez.email = \"A.N.Other@example.com\"\n",
    "with Entrez.efetch(\n",
    "    db=\"nucleotide\", rettype=\"gb\", retmode=\"text\", id=\"1824640867\"\n",
    ") as handle:\n",
    "    seq_record = SeqIO.read(handle, \"gb\")\n",
    "print(\"%s with %i features\" % (seq_record.id, len(seq_record.features)))\n",
    "print(seq_record.annotations[\"molecule_type\"])\n",
    "print(seq_record.annotations[\"taxonomy\"])"
   ]
  },
  {
   "cell_type": "markdown",
   "metadata": {},
   "source": [
    "### 5.3.2  Parsing SwissProt sequences from the net"
   ]
  },
  {
   "cell_type": "markdown",
   "metadata": {},
   "source": [
    "from Bio import ExPASy\n",
    "with ExPASy.get_sprot_raw(\"A0A1W6S797\") as handle:\n",
    "    seq_record = SeqIO.read(handle, \"swiss\")\n",
    "print(seq_record.id)\n",
    "print(seq_record.name)\n",
    "print(seq_record.description)\n",
    "print(repr(seq_record.seq))\n",
    "print(\"Length %i\" % len(seq_record))\n",
    "print(seq_record.annotations[\"keywords\"])\n"
   ]
  },
  {
   "cell_type": "markdown",
   "metadata": {},
   "source": [
    "## 5.4  Sequence files as Dictionaries\n"
   ]
  },
  {
   "cell_type": "markdown",
   "metadata": {},
   "source": [
    "Acessing the record in the form of dictionary"
   ]
  },
  {
   "cell_type": "code",
   "execution_count": 68,
   "metadata": {},
   "outputs": [
    {
     "data": {
      "text/plain": [
       "5"
      ]
     },
     "execution_count": 68,
     "metadata": {},
     "output_type": "execute_result"
    }
   ],
   "source": [
    "covid_dict = SeqIO.to_dict(SeqIO.parse(\"sarscov2.gbk\", \"genbank\"))\n",
    "len(covid_dict)"
   ]
  },
  {
   "cell_type": "code",
   "execution_count": 69,
   "metadata": {},
   "outputs": [
    {
     "data": {
      "text/plain": [
       "{'MT081068.1': SeqRecord(seq=Seq('ATGTCTGATAATGGACCCCAAAATCAGCGAAATGCACCCCGCATTACGTTTGGT...TAA', IUPACAmbiguousDNA()), id='MT081068.1', name='MT081068', description='Severe acute respiratory syndrome coronavirus 2 isolate SARS-CoV-2/HS_194/human/2020/CHN nucleocapsid phosphoprotein (N) gene, complete cds', dbxrefs=[]),\n",
       " 'MT072667.1': SeqRecord(seq=Seq('GTAGATGCTGTAAATTTACTTACTAATATGTTTACACCACTAATTCAACCTATT...ACT', IUPACAmbiguousDNA()), id='MT072667.1', name='MT072667', description='Severe acute respiratory syndrome coronavirus 2 isolate SARS-CoV-2/GHB-03021/human/2020/BEL orf1ab polyprotein gene, partial cds', dbxrefs=[]),\n",
       " 'MT066159.1': SeqRecord(seq=Seq('TAAACACCTCATACCACTTATGTACAAAGGACTTCCTTGGAATGTAGTGCGTAT...TTG', IUPACAmbiguousDNA()), id='MT066159.1', name='MT066159', description='Severe acute respiratory syndrome coronavirus 2 isolate SARS-CoV-2/CL5049/human/2020/MYS orf1ab polyprotein, RdRp region, (orf1ab) gene, partial cds', dbxrefs=[]),\n",
       " 'MT050416.1': SeqRecord(seq=Seq('TGATAGAGCCATGCCTAACATGCTTAGAATTATGGCCTCACTTGTTCTTGCTCG...CCT', IUPACAmbiguousDNA()), id='MT050416.1', name='MT050416', description='Severe acute respiratory syndrome coronavirus 2 isolate SARS-CoV-2/QLD03/human/2020_FSS917/AUS ORF1ab polyprotein, RdRp region, gene, partial cds', dbxrefs=[]),\n",
       " 'MT161607.1': SeqRecord(seq=Seq('TACCTTCCCAGGTAACAAACCAACCAACTTTCGATCTCTTGTAGATCTGTTCTC...AAA', IUPACAmbiguousDNA()), id='MT161607.1', name='MT161607', description=\"Severe acute respiratory syndrome coronavirus 2 isolate SARS-CoV-2/NIAA05032020/human/2020/ITA 5' UTR\", dbxrefs=[])}"
      ]
     },
     "execution_count": 69,
     "metadata": {},
     "output_type": "execute_result"
    }
   ],
   "source": [
    "covid_dict"
   ]
  },
  {
   "cell_type": "markdown",
   "metadata": {},
   "source": [
    "Print all the keys in the dictionary"
   ]
  },
  {
   "cell_type": "code",
   "execution_count": 70,
   "metadata": {},
   "outputs": [
    {
     "data": {
      "text/plain": [
       "['MT081068.1', 'MT072667.1', 'MT066159.1', 'MT050416.1', 'MT161607.1']"
      ]
     },
     "execution_count": 70,
     "metadata": {},
     "output_type": "execute_result"
    }
   ],
   "source": [
    "list(covid_dict.keys())"
   ]
  },
  {
   "cell_type": "markdown",
   "metadata": {},
   "source": [
    "Print all the values in the dictionary"
   ]
  },
  {
   "cell_type": "code",
   "execution_count": 71,
   "metadata": {},
   "outputs": [
    {
     "data": {
      "text/plain": [
       "[SeqRecord(seq=Seq('ATGTCTGATAATGGACCCCAAAATCAGCGAAATGCACCCCGCATTACGTTTGGT...TAA', IUPACAmbiguousDNA()), id='MT081068.1', name='MT081068', description='Severe acute respiratory syndrome coronavirus 2 isolate SARS-CoV-2/HS_194/human/2020/CHN nucleocapsid phosphoprotein (N) gene, complete cds', dbxrefs=[]),\n",
       " SeqRecord(seq=Seq('GTAGATGCTGTAAATTTACTTACTAATATGTTTACACCACTAATTCAACCTATT...ACT', IUPACAmbiguousDNA()), id='MT072667.1', name='MT072667', description='Severe acute respiratory syndrome coronavirus 2 isolate SARS-CoV-2/GHB-03021/human/2020/BEL orf1ab polyprotein gene, partial cds', dbxrefs=[]),\n",
       " SeqRecord(seq=Seq('TAAACACCTCATACCACTTATGTACAAAGGACTTCCTTGGAATGTAGTGCGTAT...TTG', IUPACAmbiguousDNA()), id='MT066159.1', name='MT066159', description='Severe acute respiratory syndrome coronavirus 2 isolate SARS-CoV-2/CL5049/human/2020/MYS orf1ab polyprotein, RdRp region, (orf1ab) gene, partial cds', dbxrefs=[]),\n",
       " SeqRecord(seq=Seq('TGATAGAGCCATGCCTAACATGCTTAGAATTATGGCCTCACTTGTTCTTGCTCG...CCT', IUPACAmbiguousDNA()), id='MT050416.1', name='MT050416', description='Severe acute respiratory syndrome coronavirus 2 isolate SARS-CoV-2/QLD03/human/2020_FSS917/AUS ORF1ab polyprotein, RdRp region, gene, partial cds', dbxrefs=[]),\n",
       " SeqRecord(seq=Seq('TACCTTCCCAGGTAACAAACCAACCAACTTTCGATCTCTTGTAGATCTGTTCTC...AAA', IUPACAmbiguousDNA()), id='MT161607.1', name='MT161607', description=\"Severe acute respiratory syndrome coronavirus 2 isolate SARS-CoV-2/NIAA05032020/human/2020/ITA 5' UTR\", dbxrefs=[])]"
      ]
     },
     "execution_count": 71,
     "metadata": {},
     "output_type": "execute_result"
    }
   ],
   "source": [
    "list(covid_dict.values())"
   ]
  },
  {
   "cell_type": "markdown",
   "metadata": {},
   "source": [
    " Accessing a single SeqRecord object via the keys"
   ]
  },
  {
   "cell_type": "code",
   "execution_count": 74,
   "metadata": {},
   "outputs": [
    {
     "data": {
      "text/plain": [
       "SeqRecord(seq=Seq('GTAGATGCTGTAAATTTACTTACTAATATGTTTACACCACTAATTCAACCTATT...ACT', IUPACAmbiguousDNA()), id='MT072667.1', name='MT072667', description='Severe acute respiratory syndrome coronavirus 2 isolate SARS-CoV-2/GHB-03021/human/2020/BEL orf1ab polyprotein gene, partial cds', dbxrefs=[])"
      ]
     },
     "execution_count": 74,
     "metadata": {},
     "output_type": "execute_result"
    }
   ],
   "source": [
    "SeqRecord = covid_dict['MT072667.1']\n",
    "SeqRecord"
   ]
  },
  {
   "cell_type": "markdown",
   "metadata": {},
   "source": [
    "Print SeqRecord description and Sequence"
   ]
  },
  {
   "cell_type": "code",
   "execution_count": 75,
   "metadata": {},
   "outputs": [
    {
     "name": "stdout",
     "output_type": "stream",
     "text": [
      "Severe acute respiratory syndrome coronavirus 2 isolate SARS-CoV-2/GHB-03021/human/2020/BEL orf1ab polyprotein gene, partial cds\n",
      "Seq('GTAGATGCTGTAAATTTACTTACTAATATGTTTACACCACTAATTCAACCTATT...ACT', IUPACAmbiguousDNA())\n"
     ]
    }
   ],
   "source": [
    "print(SeqRecord.description)\n",
    "print(repr(SeqRecord.seq))"
   ]
  },
  {
   "cell_type": "markdown",
   "metadata": {},
   "source": [
    "#### 5.4.1.1  Specifying the dictionary keys"
   ]
  },
  {
   "cell_type": "markdown",
   "metadata": {},
   "source": [
    "Dictionary for the FASTA files"
   ]
  },
  {
   "cell_type": "code",
   "execution_count": 76,
   "metadata": {},
   "outputs": [
    {
     "data": {
      "text/plain": [
       "5"
      ]
     },
     "execution_count": 76,
     "metadata": {},
     "output_type": "execute_result"
    }
   ],
   "source": [
    "fasta_dict = SeqIO.to_dict(SeqIO.parse(\"sarscov2.fasta\", \"fasta\"))\n",
    "len(fasta_dict)"
   ]
  },
  {
   "cell_type": "code",
   "execution_count": 77,
   "metadata": {},
   "outputs": [
    {
     "name": "stdout",
     "output_type": "stream",
     "text": [
      "dict_keys(['MT081068.1', 'MT072667.1', 'MT066159.1', 'MT050416.1', 'MT161607.1'])\n"
     ]
    }
   ],
   "source": [
    "print(fasta_dict.keys())"
   ]
  },
  {
   "cell_type": "code",
   "execution_count": 78,
   "metadata": {},
   "outputs": [
    {
     "name": "stdout",
     "output_type": "stream",
     "text": [
      "dict_values([SeqRecord(seq=Seq('ATGTCTGATAATGGACCCCAAAATCAGCGAAATGCACCCCGCATTACGTTTGGT...TAA', SingleLetterAlphabet()), id='MT081068.1', name='MT081068.1', description='MT081068.1 Severe acute respiratory syndrome coronavirus 2 isolate SARS-CoV-2/HS_194/human/2020/CHN nucleocapsid phosphoprotein (N) gene, complete cds', dbxrefs=[]), SeqRecord(seq=Seq('GTAGATGCTGTAAATTTACTTACTAATATGTTTACACCACTAATTCAACCTATT...ACT', SingleLetterAlphabet()), id='MT072667.1', name='MT072667.1', description='MT072667.1 Severe acute respiratory syndrome coronavirus 2 isolate SARS-CoV-2/GHB-03021/human/2020/BEL orf1ab polyprotein gene, partial cds', dbxrefs=[]), SeqRecord(seq=Seq('TAAACACCTCATACCACTTATGTACAAAGGACTTCCTTGGAATGTAGTGCGTAT...TTG', SingleLetterAlphabet()), id='MT066159.1', name='MT066159.1', description='MT066159.1 Severe acute respiratory syndrome coronavirus 2 isolate SARS-CoV-2/CL5049/human/2020/MYS orf1ab polyprotein, RdRp region, (orf1ab) gene, partial cds', dbxrefs=[]), SeqRecord(seq=Seq('TGATAGAGCCATGCCTAACATGCTTAGAATTATGGCCTCACTTGTTCTTGCTCG...CCT', SingleLetterAlphabet()), id='MT050416.1', name='MT050416.1', description='MT050416.1 Severe acute respiratory syndrome coronavirus 2 isolate SARS-CoV-2/QLD03/human/2020_FSS917/AUS ORF1ab polyprotein, RdRp region, gene, partial cds', dbxrefs=[]), SeqRecord(seq=Seq('TACCTTCCCAGGTAACAAACCAACCAACTTTCGATCTCTTGTAGATCTGTTCTC...AAA', SingleLetterAlphabet()), id='MT161607.1', name='MT161607.1', description=\"MT161607.1 Severe acute respiratory syndrome coronavirus 2 isolate SARS-CoV-2/NIAA05032020/human/2020/ITA 5' UTR\", dbxrefs=[])])\n"
     ]
    }
   ],
   "source": [
    "print(fasta_dict.values())"
   ]
  },
  {
   "cell_type": "markdown",
   "metadata": {},
   "source": [
    "#### 5.4.1.2  Indexing a dictionary using the SEGUID checksum\n",
    "\n",
    "SEGUID checksum gives different chksum values for different sequences"
   ]
  },
  {
   "cell_type": "code",
   "execution_count": 79,
   "metadata": {},
   "outputs": [
    {
     "name": "stdout",
     "output_type": "stream",
     "text": [
      "MT081068.1 5BviYOuizbQkd1/g74Hzwgox008\n",
      "MT072667.1 teNUy6ULqWZKMlXSo+Xj0NPzB2U\n",
      "MT066159.1 TI9rGoDULpeR1MJFktlQha+y8GM\n",
      "MT050416.1 5RsIiXNqTAgk3nuC9MheQCRHfH4\n",
      "MT161607.1 pNKP9yzw9ctZzPH+NPv91Dz39G4\n"
     ]
    }
   ],
   "source": [
    "from Bio.SeqUtils.CheckSum import seguid\n",
    "\n",
    "for record in SeqIO.parse(\"sarscov2.gbk\", \"genbank\"):\n",
    "    print(record.id, seguid(record.seq))\n"
   ]
  },
  {
   "cell_type": "code",
   "execution_count": 85,
   "metadata": {},
   "outputs": [
    {
     "name": "stdout",
     "output_type": "stream",
     "text": [
      "dict_keys(['5BviYOuizbQkd1/g74Hzwgox008', 'teNUy6ULqWZKMlXSo+Xj0NPzB2U', 'TI9rGoDULpeR1MJFktlQha+y8GM', '5RsIiXNqTAgk3nuC9MheQCRHfH4', 'pNKP9yzw9ctZzPH+NPv91Dz39G4'])\n"
     ]
    }
   ],
   "source": [
    "seguid_dict = SeqIO.to_dict(SeqIO.parse(\"sarscov2.gbk\", \"genbank\"),\n",
    "                             lambda rec : seguid(rec.seq))\n",
    "print(seguid_dict.keys())"
   ]
  },
  {
   "cell_type": "code",
   "execution_count": 86,
   "metadata": {},
   "outputs": [
    {
     "name": "stdout",
     "output_type": "stream",
     "text": [
      "MT081068.1\n",
      "Severe acute respiratory syndrome coronavirus 2 isolate SARS-CoV-2/HS_194/human/2020/CHN nucleocapsid phosphoprotein (N) gene, complete cds\n"
     ]
    }
   ],
   "source": [
    "\n",
    "record = seguid_dict[\"5BviYOuizbQkd1/g74Hzwgox008\"]\n",
    "print(record.id)\n",
    "print(record.description)"
   ]
  },
  {
   "cell_type": "markdown",
   "metadata": {},
   "source": [
    "### 5.4.2  Sequence files as Dictionaries – Indexed files"
   ]
  },
  {
   "cell_type": "markdown",
   "metadata": {},
   "source": [
    "Dictionaries are good for small to medium size file as it holds everything in memory. \n",
    "For bigger files, we use Bio.SeqIO.index() it still returns a dictionary like object, but does not keep everything in memory."
   ]
  },
  {
   "cell_type": "code",
   "execution_count": 95,
   "metadata": {},
   "outputs": [
    {
     "data": {
      "text/plain": [
       "5"
      ]
     },
     "execution_count": 95,
     "metadata": {},
     "output_type": "execute_result"
    }
   ],
   "source": [
    "covid_dict = SeqIO.index(\"sarscov2.gbk\", \"genbank\")\n",
    "len(covid_dict)\n"
   ]
  },
  {
   "cell_type": "code",
   "execution_count": 89,
   "metadata": {},
   "outputs": [
    {
     "name": "stdout",
     "output_type": "stream",
     "text": [
      "Severe acute respiratory syndrome coronavirus 2 isolate SARS-CoV-2/GHB-03021/human/2020/BEL orf1ab polyprotein gene, partial cds\n",
      "Seq('GTAGATGCTGTAAATTTACTTACTAATATGTTTACACCACTAATTCAACCTATT...ACT', IUPACAmbiguousDNA())\n"
     ]
    }
   ],
   "source": [
    "list(covid_dict.keys())\n",
    "SeqRecord = covid_dict['MT072667.1']\n",
    "print(SeqRecord.description)\n",
    "print(repr(SeqRecord.seq))"
   ]
  },
  {
   "cell_type": "code",
   "execution_count": 90,
   "metadata": {},
   "outputs": [],
   "source": [
    "covid_dict.close()"
   ]
  },
  {
   "cell_type": "code",
   "execution_count": 91,
   "metadata": {},
   "outputs": [
    {
     "data": {
      "text/plain": [
       "5"
      ]
     },
     "execution_count": 91,
     "metadata": {},
     "output_type": "execute_result"
    }
   ],
   "source": [
    "covid_fasta_dict = SeqIO.index(\"sarscov2.fasta\", \"fasta\")\n",
    "len(covid_fasta_dict)"
   ]
  },
  {
   "cell_type": "code",
   "execution_count": 93,
   "metadata": {},
   "outputs": [
    {
     "data": {
      "text/plain": [
       "['MT081068.1', 'MT072667.1', 'MT066159.1', 'MT050416.1', 'MT161607.1']"
      ]
     },
     "execution_count": 93,
     "metadata": {},
     "output_type": "execute_result"
    }
   ],
   "source": [
    "list(covid_fasta_dict.keys())"
   ]
  },
  {
   "cell_type": "markdown",
   "metadata": {},
   "source": [
    "#### 5.4.2.2  Getting the raw data for a record"
   ]
  },
  {
   "cell_type": "code",
   "execution_count": null,
   "metadata": {},
   "outputs": [],
   "source": [
    "uniprot = SeqIO.index(\"uniprot_sprot.dat\", \"swiss\")\n",
    "with open(\"selected.dat\", \"wb\") as out_handle:\n",
    "     for acc in [\"P33487\", \"P19801\", \"P13689\", \"Q8JZQ5\", \"Q9TRC7\"]:\n",
    "         out_handle.write(uniprot.get_raw(acc))"
   ]
  },
  {
   "cell_type": "markdown",
   "metadata": {},
   "source": [
    "### 5.4.3  Sequence files as Dictionaries – Database indexed files\n"
   ]
  },
  {
   "cell_type": "markdown",
   "metadata": {},
   "source": [
    "Getting the Virus Data from ftp://ftp.ncbi.nih.gov/genbank/, here we downloaded 4 of the virus files.\n",
    "unzipped the file\n",
    "$ curl -O ftp://ftp.ncbi.nih.gov/genbank/gbvrl1.seq.gz\n",
    "$ curl -O ftp://ftp.ncbi.nih.gov/genbank/gbvrl2.seq.gz\n",
    "$ curl -O ftp://ftp.ncbi.nih.gov/genbank/gbvrl3.seq.gz\n",
    "$ curl -O ftp://ftp.ncbi.nih.gov/genbank/gbvrl4.seq.gz\n",
    "$ gunzip gbvrl*.seq.gz"
   ]
  },
  {
   "cell_type": "code",
   "execution_count": 100,
   "metadata": {},
   "outputs": [
    {
     "name": "stdout",
     "output_type": "stream",
     "text": [
      "4 files to index\n"
     ]
    }
   ],
   "source": [
    "import glob\n",
    "files = glob.glob(\"gbvrl*.seq\")\n",
    "print(\"%i files to index\" % len(files))"
   ]
  },
  {
   "cell_type": "markdown",
   "metadata": {},
   "source": [
    "Indexing these Virus files"
   ]
  },
  {
   "cell_type": "code",
   "execution_count": 101,
   "metadata": {},
   "outputs": [
    {
     "name": "stdout",
     "output_type": "stream",
     "text": [
      "453473 sequences indexed\n"
     ]
    }
   ],
   "source": [
    "gb_vrl = SeqIO.index_db(\"gbvrl.idx\", files, \"genbank\")\n",
    "print(\"%i sequences indexed\" % len(gb_vrl))"
   ]
  },
  {
   "cell_type": "code",
   "execution_count": 102,
   "metadata": {},
   "outputs": [
    {
     "name": "stdout",
     "output_type": "stream",
     "text": [
      "Equine encephalosis virus NS3 gene, complete cds, isolate: Kimron1\n"
     ]
    }
   ],
   "source": [
    "print(gb_vrl[\"AB811634.1\"].description)"
   ]
  },
  {
   "cell_type": "markdown",
   "metadata": {},
   "source": [
    "#### 5.4.3.1  Getting the raw data for a record\n"
   ]
  },
  {
   "cell_type": "markdown",
   "metadata": {},
   "source": [
    "Here we get the raw bytes of each record"
   ]
  },
  {
   "cell_type": "code",
   "execution_count": 103,
   "metadata": {
    "scrolled": true
   },
   "outputs": [
    {
     "name": "stdout",
     "output_type": "stream",
     "text": [
      "b'LOCUS       AB811634                 723 bp    RNA     linear   VRL 17-JUN-2015\\nDEFINITION  Equine encephalosis virus NS3 gene, complete cds, isolate: Kimron1.\\nACCESSION   AB811634\\nVERSION     AB811634.1\\nKEYWORDS    .\\nSOURCE      Equine encephalosis virus\\n  ORGANISM  Equine encephalosis virus\\n            Viruses; dsRNA viruses; Reoviridae; Sedoreovirinae; Orbivirus.\\nREFERENCE   1\\n  AUTHORS   Westcott,D., Mildenberg,Z., Bellaiche,M., McGowan,S.L.,\\n            Grierson,S.S., Choudhury,B. and Steinbach,F.\\n  TITLE     Evidence for the circulation of equine encephalosis virus in Israel\\n            since 2001\\n  JOURNAL   PLoS ONE 8 (8), E70532 (2013)\\n   PUBMED   23950952\\n  REMARK    DOI:10.1371/journal.pone.0070532\\n            Erratum:[PLoS One. 2013;8(9).\\n            doi:10.1371/annotation/4875ab92-466a-4f5f-b9c7-bc0e168a8f9b.\\n            Wescott, David G [corrected to Westcott, David G]]\\n            Publication Status: Online-Only\\nREFERENCE   2  (bases 1 to 723)\\n  AUTHORS   Westcott,D., Mildenberg,Z., Bellaiche,M., Mcgowan,S.L.,\\n            Grierson,S., Choudhury,B. and Steinbach,F.\\n  TITLE     Direct Submission\\n  JOURNAL   Submitted (29-MAR-2013) Contact:Bhudipa Choudhury Animal and Plant\\n            Health Agency (APHA), Virology; Woodham Lane, Addlestone, Surrey\\n            KT15-3NB, U.K\\nFEATURES             Location/Qualifiers\\n     source          1..723\\n                     /organism=\"Equine encephalosis virus\"\\n                     /mol_type=\"genomic RNA\"\\n                     /isolate=\"Kimron1\"\\n                     /host=\"Equus caballus\"\\n                     /db_xref=\"taxon:201490\"\\n                     /country=\"Israel\"\\n     gene            1..723\\n                     /gene=\"NS3\"\\n     CDS             1..723\\n                     /gene=\"NS3\"\\n                     /codon_start=1\\n                     /product=\"NS3 protein\"\\n                     /protein_id=\"BAN78512.1\"\\n                     /translation=\"MYPVLSRAVVGNPEERALMVYPPTAPMPPVTTWDNLKIDSVDGM\\n                     KDLALNILDKNITSTTGADECDKREKAMFASVAESAADSPMVRTIKIQIYNRVLDDME\\n                     REKRKCEKRRAMLRFVSNAFITLMLMSTFLMAMMQTPPITQYVEKACNGTGGTETNDP\\n                     CGLMRWSGAVQFLMLIMSGFLYMCKRWITTLSTNADRISKNILKRRAYIDAARSNPNA\\n                     TVLTVTGGNTGDLPYQFGDTAH\"\\nORIGIN      \\n        1 atgtatccag tactttcgag agccgttgtg ggcaatccag aggaacgtgc gttaatggtg\\n       61 tacccgccga cagcgccgat gccgcctgtc acgacttggg ataaccttaa aatcgacagt\\n      121 gttgatggaa tgaaggatct agcattaaat atattggata agaatataac tagcacgacg\\n      181 ggagcggatg agtgcgataa acgtgagaag gccatgttcg cctcggtggc ggaatcagca\\n      241 gcagatagcc cgatggtgcg tacaattaaa atccagatat ataacagagt attggatgat\\n      301 atggagagag agaagcggaa gtgtgagaaa agacgtgcaa tgttgagatt tgtctcaaac\\n      361 gcctttataa cgttaatgct gatgtccaca ttcttgatgg ctatgatgca gaccccgccg\\n      421 ataacgcagt atgtagagaa agcgtgtaat gggacgggag ggacggagac gaacgacccg\\n      481 tgcggtctga tgagatggag tggggctgtc caatttttga tgctgataat gagcggcttt\\n      541 ttgtatatgt gcaaacgttg gatcactacg ctttcaacga acgcagatag gattagtaaa\\n      601 aacattttga aacggcgagc gtacatcgat gcagccagat caaacccaaa tgcgacggtt\\n      661 ctaactgtga ctggaggcaa cacgggggat ctaccgtacc agttcgggga tacggcccat\\n      721 tag\\n//\\n'\n"
     ]
    }
   ],
   "source": [
    "print(gb_vrl.get_raw(\"AB811634.1\"))"
   ]
  },
  {
   "cell_type": "markdown",
   "metadata": {},
   "source": [
    "### 5.4.4  Indexing compressed files\n"
   ]
  },
  {
   "cell_type": "code",
   "execution_count": 106,
   "metadata": {},
   "outputs": [],
   "source": [
    "covid_dict = SeqIO.index(\"sarscov2.gbk.bgz\", \"genbank\")\n",
    "len(covid_dict)\n"
   ]
  },
  {
   "cell_type": "code",
   "execution_count": null,
   "metadata": {},
   "outputs": [],
   "source": [
    "covid_dict.close()"
   ]
  },
  {
   "cell_type": "markdown",
   "metadata": {},
   "source": [
    "## 5.5  Writing Sequence Files\n",
    "Writing sequence records to file"
   ]
  },
  {
   "cell_type": "code",
   "execution_count": 108,
   "metadata": {},
   "outputs": [
    {
     "data": {
      "text/plain": [
       "3"
      ]
     },
     "execution_count": 108,
     "metadata": {},
     "output_type": "execute_result"
    }
   ],
   "source": [
    "from Bio.Alphabet import generic_protein\n",
    "from Bio.Seq import Seq\n",
    "from Bio.SeqRecord import SeqRecord\n",
    "\n",
    "rec1 = SeqRecord(\n",
    "    Seq(\n",
    "        \"MMYQQGCFAGGTVLRLAKDLAENNRGARVLVVCSEITAVTFRGPSETHLDSMVGQALFGD\"\n",
    "        \"GAGAVIVGSDPDLSVERPLYELVWTGATLLPDSEGAIDGHLREVGLTFHLLKDVPGLISK\"\n",
    "        \"NIEKSLKEAFTPLGISDWNSTFWIAHPGGPAILDQVEAKLGLKEEKMRATREVLSEYGNM\"\n",
    "        \"SSAC\",\n",
    "        generic_protein,\n",
    "    ),\n",
    "    id=\"MT081068.1\",\n",
    "    description=\"Severe acute respiratory syndrome coronavirus 2 isolate SARS-CoV-2/HS_194/human/2020/CHN nucleocapsid phosphoprotein (N) gene, complete cds\",\n",
    ")\n",
    "\n",
    "rec2 = SeqRecord(\n",
    "    Seq(\n",
    "        \"YPDYYFRITNREHKAELKEKFQRMCDKSMIKKRYMYLTEEILKENPSMCEYMAPSLDARQ\"\n",
    "        \"DMVVVEIPKLGKEAAVKAIKEWGQ\",\n",
    "        generic_protein,\n",
    "    ),\n",
    "    id=\"MT072667.1\",\n",
    "    description=\"Severe acute respiratory syndrome coronavirus 2 isolate SARS-CoV-2/GHB-03021/human/2020/BEL orf1ab polyprotein gene, partial cds\",\n",
    ")\n",
    "\n",
    "rec3 = SeqRecord(\n",
    "    Seq(\n",
    "        \"MVTVEEFRRAQCAEGPATVMAIGTATPSNCVDQSTYPDYYFRITNSEHKVELKEKFKRMC\"\n",
    "        \"EKSMIKKRYMHLTEEILKENPNICAYMAPSLDARQDIVVVEVPKLGKEAAQKAIKEWGQP\"\n",
    "        \"KSKITHLVFCTTSGVDMPGCDYQLTKLLGLRPSVKRFMMYQQGCFAGGTVLRMAKDLAEN\"\n",
    "        \"NKGARVLVVCSEITAVTFRGPNDTHLDSLVGQALFGDGAAAVIIGSDPIPEVERPLFELV\"\n",
    "        \"SAAQTLLPDSEGAIDGHLREVGLTFHLLKDVPGLISKNIEKSLVEAFQPLGISDWNSLFW\"\n",
    "        \"IAHPGGPAILDQVELKLGLKQEKLKATRKVLSNYGNMSSACVLFILDEMRKASAKEGLGT\"\n",
    "        \"TGEGLEWGVLFGFGPGLTVETVVLHSVAT\",\n",
    "        generic_protein,\n",
    "    ),\n",
    "    id=\"MT066159.1\",\n",
    "    description=\"Severe acute respiratory syndrome coronavirus 2 isolate SARS-CoV-2/CL5049/human/2020/MYS orf1ab polyprotein, RdRp region, (orf1ab) gene, partial cds]\",\n",
    ")\n",
    "\n",
    "my_records = [rec1, rec2, rec3]\n",
    "\n",
    "SeqIO.write(my_records, \"my_example.faa\", \"fasta\")\n"
   ]
  },
  {
   "cell_type": "markdown",
   "metadata": {},
   "source": [
    "### 5.5.2  Converting between sequence file formats"
   ]
  },
  {
   "cell_type": "markdown",
   "metadata": {},
   "source": [
    "One way is to use SeqIO.parse and SeqIO.write but it is bit complicated"
   ]
  },
  {
   "cell_type": "code",
   "execution_count": 109,
   "metadata": {},
   "outputs": [
    {
     "name": "stdout",
     "output_type": "stream",
     "text": [
      "Converted 5 records\n"
     ]
    }
   ],
   "source": [
    "records = SeqIO.parse(\"sarscov2.gbk\", \"genbank\")\n",
    "count = SeqIO.write(records, \"my_example.fasta\", \"fasta\")\n",
    "print(\"Converted %i records\" % count)"
   ]
  },
  {
   "cell_type": "markdown",
   "metadata": {},
   "source": [
    "Another approach is to use SeqIO.convert\n",
    "This allows converting from genbank file format to fasta file format"
   ]
  },
  {
   "cell_type": "code",
   "execution_count": 110,
   "metadata": {},
   "outputs": [
    {
     "name": "stdout",
     "output_type": "stream",
     "text": [
      "Converted 5 records\n"
     ]
    }
   ],
   "source": [
    "count = SeqIO.convert(\"sarscov2.gbk\", \"genbank\", \"my_example.fasta\", \"fasta\")\n",
    "print(\"Converted %i records\" % count)"
   ]
  },
  {
   "cell_type": "markdown",
   "metadata": {},
   "source": [
    "### 5.5.3  Converting a file of sequences to their reverse complements"
   ]
  },
  {
   "cell_type": "markdown",
   "metadata": {},
   "source": [
    "Converting file of nucleotide sequences  into a file containing their reverse complement sequences.\n",
    "We use the built in .reverse_complement() method"
   ]
  },
  {
   "cell_type": "code",
   "execution_count": 113,
   "metadata": {},
   "outputs": [
    {
     "name": "stdout",
     "output_type": "stream",
     "text": [
      "MT081068.1\n",
      "TTAGGCCTGAGTTGAGTCAGCACTGCTCATGGATTGTTGCAATTGTTTGGAGAAATCATCCAAATCTGCAGCAGGAAGAAGAGTCACAGTTTGCTGTTTCTTCTGTCTCTGCGGTAAGGCTTGAGTTTCATCAGCCTTCTTCTTTTTGTCCTTTTTAGGCTCTGTTGGTGGGAATGTTTTGTATGCGTCAATATGCTTATTCAGCAAAATGACTTGATCTTTGAAATTTGGATCTTTGTCATCCAATTTGATGGCACCTGTGTAGGTCAACCACGTTCCCGAAGGTGTGACTTCCATGCCAATGCGCGACATTCCGAAGAACGCTGAAGCGCTGGGGGCAAATTGTGCAATTTGCGGCCAATGTTTGTAATCAGTTCCTTGTCTGATTAGTTCCTGGTCCCCAAAATTTCCTTGGGTTTGTTCTGGACCACGTCTGCCGAAAGCTTGTGTTACATTGTATGCTTTAGTGGCAGTACGTTTTTGCCGAGGCTTCTTAGAAGCCTCAGCAGCAGATTTCTTAGTGACAGTTTGGCCTTGTTGTTGTTGGCCTTTACCAGACATTTTGCTCTCAAGCTGGTTCAATCTGTCAAGCAGCAGCAAAGCAAGAGCAGCATCACCGCCATTGCCAGCCATTCTAGCAGGAGAAGTTCCCCTACTGCTGCCTGGAGTTGAATTTCTTGAACTGTTGCGACTACGTGATGAGGAACGAGAAGAGGCTTGACTGCCGCCTCTGCTCCCTTCTGCGTAGAAGCCTTTTGGCAATGTTGTTCCTTGAGGAAGTTGTAGCACGATTGCAGCATTGTTAGCAGGATTGCGGGTGCCAATGTGATCTTTTGGTGTATTCAAGGCTCCCTCAGTTGCAACCCATATGATGCCGTCTTTGTTAGCACCATAGGGAAGTCCAGCTTCTGGCCCAGTTCCTAGGTAGTAGAAATACCATCTTGGACTGAGATCTTTCATTTTACCGTCACCACCACGAATTCGTCTGGTAGCTCTTCGGTAGTAGCCAATTTGGTCATCTGGACTGCTATTGGTGTTAATTGGAACGCCTTGTCCTCGAGGGAATTTAAGGTCTTCCTTGCCATGTTGAGTGAGAGCGGTGAACCAAGACGCAGTATTATTGGGTAAACCTTGGGGCCGACGTTGTTTTGATCGCGCCCCACTGCGTTCTCCATTCTGGTTACTGCCAGTTGAATCTGAGGGTCCACCAAACGTAATGCGGGGTGCATTTCGCTGATTTTGGGGTCCATTATCAGACAT\n",
      "MT072667.1\n",
      "AGTTACTGAAGTCATTGAGAGCCTTTGCGAGATGACAACAAGCAGCTTCTCTGTAGCTAGTTGTATCCATTGCTCCACTAAAATACTTGTACTTATTATAAAGAGCTAAGTATCTATTATATTGCGTAAGAGGTAATAGCACATCACTACGCAACTTTAGATACATTTCTTTATTTAACAAAAAGGTGCACAGCGCAGCTTCTTCAAAAGTACTAAAGGAAACACCATTAAAGACTACACGTCTCTTTAGGTAATTACTAAAGAACCAATAGAAATGCTTTGTGGAAATACAAATGATATAAGCAATTGTTATCCAGAAAGGTACTAAAGGTGTGAACATAACCATCCACTGAATATGTGCTAAAAAAGAAACATCATTAGTAAGATAAAATGTCAAGTACAAGTAAATAACAGAATAAACACCAGGTAAGAATGAGTAAACTGGTGTTAAACAGAGTACAGTGAATGACATAAGGAATAGTAAAGTATTAAAGGCAACTACATGACTGTATTCACCAAAAGCTCTTCTAAACCTCATAAAATAGTAGGCAAGGCATGTTACTACGATAGCTACAATACCACCAGCTACTATAGATGCTGATATGTCCAAAGCACCAATAGGTTGAATTAGTGGTGTAAACATATTAGTAAGTAAATTTACAGCATCTAC\n",
      "MT066159.1\n",
      "CAATCATAAACGGATTATAGACGTAATCAAATCCAATAGAATGATGCCAACAGGCATAAGTGTCTGAAGCAGTGGAAAAGCATGTGGCACGTCTATCACATAGACAACAGGTGCGCTCAGGTCCTATTTTCACAAAATACTTCATAGATGTCAACTCAAAGCCATGTGCCCATAAGACAAATACGACTCTGTCAGAGAGATTTTTAAGTGTGTCACTTAACATTTGTACAATCTTTATACGCACTACATTCCAAGGAAGTCCTTTGTACATAAGTGGTATGAGGTGTTTA\n",
      "MT050416.1\n",
      "AGGTCCTTTAGTAAGGTCAGTCTCAGTCCAACATTTTGCTTCAGACATAAAAACATTGTTTTGATAATAAAGAACTGACTTAAAGTTCTTTATGCTAGCCACTAGACCTTGAGATGCATAAGTGCTATTGAAACACACAACAGCATCGTCAGAGAGTATCATCATTGAGAAATGTTTACGCAAATATGCGTAAAACTCATTCACAAAGTCTGTGTCAACATCTCTATTTCTATAGAGACACTCATAAAGTCTGTGTTGTAAATTGCGGACATACTTATCGGCAATTTTGTTACCATCAGTAGATAAAAGTGCATTAACATTGGCCGTGACAGCTTGACAAATGTTAAAAACACTATTAGCATAAGCAGTTGTGGCATCTCCTGATGAGGTTCCACCTGGTTTAACATATAGTGAACCGCCACACATGACCATTTCACTCAATACTTGAGCACACTCATTAGCTAATCTATAGAAACGGTGTGACAAGCTACAACACGTTGTATGTTTGCGAGCAAGAACAAGTGAGGCCATAATTCTAAGCATGTTAGGCATGGCTCTATCA\n",
      "MT161607.1\n",
      "TTTACCTTTCGGTCACACCCGGACAAAACCTAGATGTGCTGATGATCGGCTGCAACACGGACGAAACCGTAAGCAGCCTGCAGAAGATAGACGAGTTACTCGTGTCCTGTCAACGACAGTAATTAGTTATTAATTATACTGCGTGAGTGCACTAAGCATGCAGCCGAGTGACAGCCACACAGATTTTAAAGTTCGTTTAGAGAACAGATCTACAAGAGATCGAAAGTTGGTTGGTTTGTTACCTGGGAAGGTA\n"
     ]
    }
   ],
   "source": [
    "for record in SeqIO.parse(\"sarscov2.gbk\", \"genbank\"):\n",
    "     print(record.id)\n",
    "     print(record.seq.reverse_complement())\n"
   ]
  },
  {
   "cell_type": "markdown",
   "metadata": {},
   "source": [
    "We can save the Reverse complement to the file using SeqRecord objects.\n",
    "Using List comprehension"
   ]
  },
  {
   "cell_type": "code",
   "execution_count": 116,
   "metadata": {},
   "outputs": [
    {
     "name": "stdout",
     "output_type": "stream",
     "text": [
      "[SeqRecord(seq=Seq('TTAGGCCTGAGTTGAGTCAGCACTGCTCATGGATTGTTGCAATTGTTTGGAGAA...CAT', SingleLetterAlphabet()), id='rc_MT081068.1', name='<unknown name>', description='reverse complement', dbxrefs=[]), SeqRecord(seq=Seq('AGTTACTGAAGTCATTGAGAGCCTTTGCGAGATGACAACAAGCAGCTTCTCTGT...TAC', SingleLetterAlphabet()), id='rc_MT072667.1', name='<unknown name>', description='reverse complement', dbxrefs=[]), SeqRecord(seq=Seq('CAATCATAAACGGATTATAGACGTAATCAAATCCAATAGAATGATGCCAACAGG...TTA', SingleLetterAlphabet()), id='rc_MT066159.1', name='<unknown name>', description='reverse complement', dbxrefs=[]), SeqRecord(seq=Seq('AGGTCCTTTAGTAAGGTCAGTCTCAGTCCAACATTTTGCTTCAGACATAAAAAC...TCA', SingleLetterAlphabet()), id='rc_MT050416.1', name='<unknown name>', description='reverse complement', dbxrefs=[]), SeqRecord(seq=Seq('TTTACCTTTCGGTCACACCCGGACAAAACCTAGATGTGCTGATGATCGGCTGCA...GTA', SingleLetterAlphabet()), id='rc_MT161607.1', name='<unknown name>', description='reverse complement', dbxrefs=[])]\n"
     ]
    }
   ],
   "source": [
    "from Bio import SeqIO\n",
    "records = [rec.reverse_complement(id=\"rc_\"+rec.id, description = \"reverse complement\") \\\n",
    "            for rec in SeqIO.parse(\"sarscov2.fasta\", \"fasta\")]\n",
    "len(records)\n",
    "print(records)"
   ]
  },
  {
   "cell_type": "markdown",
   "metadata": {},
   "source": [
    "Adding a conditional check of eliminating records with length < 700"
   ]
  },
  {
   "cell_type": "code",
   "execution_count": 117,
   "metadata": {},
   "outputs": [
    {
     "data": {
      "text/plain": [
       "4"
      ]
     },
     "execution_count": 117,
     "metadata": {},
     "output_type": "execute_result"
    }
   ],
   "source": [
    "records = [rec.reverse_complement(id=\"rc_\"+rec.id, description = \"reverse complement\") \\\n",
    "            for rec in SeqIO.parse(\"sarscov2.fasta\", \"fasta\") if len(rec)<700]\n",
    "len(records)"
   ]
  },
  {
   "cell_type": "markdown",
   "metadata": {},
   "source": [
    "Writing the reverse complement to a file"
   ]
  },
  {
   "cell_type": "code",
   "execution_count": 118,
   "metadata": {},
   "outputs": [
    {
     "data": {
      "text/plain": [
       "4"
      ]
     },
     "execution_count": 118,
     "metadata": {},
     "output_type": "execute_result"
    }
   ],
   "source": [
    "SeqIO.write(records, \"rev_comp.fasta\", \"fasta\")"
   ]
  },
  {
   "cell_type": "markdown",
   "metadata": {},
   "source": [
    "### 5.5.4  Getting your SeqRecord objects as formatted strings"
   ]
  },
  {
   "cell_type": "markdown",
   "metadata": {},
   "source": [
    "Loading a bunch of SeqRecord objects from  GenBank file, and creating a string containing the records in FASTA format"
   ]
  },
  {
   "cell_type": "code",
   "execution_count": 123,
   "metadata": {},
   "outputs": [
    {
     "name": "stdout",
     "output_type": "stream",
     "text": [
      ">MT081068.1 Severe acute respiratory syndrome coronavirus 2 isolate SARS-CoV-2/HS_194/human/2020/CHN nucleocapsid phosphoprotein (N) gene, complete cds\n",
      "ATGTCTGATAATGGACCCCAAAATCAGCGAAATGCACCCCGCATTACGTTTGGTGGACCC\n",
      "TCAGATTCAACTGGCAGTAACCAGAATGGAGAACGCAGTGGGGCGCGATCAAAACAACGT\n",
      "CGGCCCCAAGGTTTACCCAATAATACTGCGTCTTGGTTCACCGCTCTCACTCAACATGGC\n",
      "AAGGAAGACCTTAAATTCCCTCGAGGACAAGGCGTTCCAATTAACACCAATAGCAGTCCA\n",
      "GATGACCAAATTGGCTACTACCGAAGAGCTACCAGACGAATTCGTGGTGGTGACGGTAAA\n",
      "ATGAAAGATCTCAGTCCAAGATGGTATTTCTACTACCTAGGAACTGGGCCAGAAGCTGGA\n",
      "CTTCCCTATGGTGCTAACAAAGACGGCATCATATGGGTTGCAACTGAGGGAGCCTTGAAT\n",
      "ACACCAAAAGATCACATTGGCACCCGCAATCCTGCTAACAATGCTGCAATCGTGCTACAA\n",
      "CTTCCTCAAGGAACAACATTGCCAAAAGGCTTCTACGCAGAAGGGAGCAGAGGCGGCAGT\n",
      "CAAGCCTCTTCTCGTTCCTCATCACGTAGTCGCAACAGTTCAAGAAATTCAACTCCAGGC\n",
      "AGCAGTAGGGGAACTTCTCCTGCTAGAATGGCTGGCAATGGCGGTGATGCTGCTCTTGCT\n",
      "TTGCTGCTGCTTGACAGATTGAACCAGCTTGAGAGCAAAATGTCTGGTAAAGGCCAACAA\n",
      "CAACAAGGCCAAACTGTCACTAAGAAATCTGCTGCTGAGGCTTCTAAGAAGCCTCGGCAA\n",
      "AAACGTACTGCCACTAAAGCATACAATGTAACACAAGCTTTCGGCAGACGTGGTCCAGAA\n",
      "CAAACCCAAGGAAATTTTGGGGACCAGGAACTAATCAGACAAGGAACTGATTACAAACAT\n",
      "TGGCCGCAAATTGCACAATTTGCCCCCAGCGCTTCAGCGTTCTTCGGAATGTCGCGCATT\n",
      "GGCATGGAAGTCACACCTTCGGGAACGTGGTTGACCTACACAGGTGCCATCAAATTGGAT\n",
      "GACAAAGATCCAAATTTCAAAGATCAAGTCATTTTGCTGAATAAGCATATTGACGCATAC\n",
      "AAAACATTCCCACCAACAGAGCCTAAAAAGGACAAAAAGAAGAAGGCTGATGAAACTCAA\n",
      "GCCTTACCGCAGAGACAGAAGAAACAGCAAACTGTGACTCTTCTTCCTGCTGCAGATTTG\n",
      "GATGATTTCTCCAAACAATTGCAACAATCCATGAGCAGTGCTGACTCAACTCAGGCCTAA\n",
      ">MT072667.1 Severe acute respiratory syndrome coronavirus 2 isolate SARS-CoV-2/GHB-03021/human/2020/BEL orf1ab polyprotein gene, partial cds\n",
      "GTAGATGCTGTAAATTTACTTACTAATATGTTTACACCACTAATTCAACCTATTGGTGCT\n",
      "TTGGACATATCAGCATCTATAGTAGCTGGTGGTATTGTAGCTATCGTAGTAACATGCCTT\n",
      "GCCTACTATTTTATGAGGTTTAGAAGAGCTTTTGGTGAATACAGTCATGTAGTTGCCTTT\n",
      "AATACTTTACTATTCCTTATGTCATTCACTGTACTCTGTTTAACACCAGTTTACTCATTC\n",
      "TTACCTGGTGTTTATTCTGTTATTTACTTGTACTTGACATTTTATCTTACTAATGATGTT\n",
      "TCTTTTTTAGCACATATTCAGTGGATGGTTATGTTCACACCTTTAGTACCTTTCTGGATA\n",
      "ACAATTGCTTATATCATTTGTATTTCCACAAAGCATTTCTATTGGTTCTTTAGTAATTAC\n",
      "CTAAAGAGACGTGTAGTCTTTAATGGTGTTTCCTTTAGTACTTTTGAAGAAGCTGCGCTG\n",
      "TGCACCTTTTTGTTAAATAAAGAAATGTATCTAAAGTTGCGTAGTGATGTGCTATTACCT\n",
      "CTTACGCAATATAATAGATACTTAGCTCTTTATAATAAGTACAAGTATTTTAGTGGAGCA\n",
      "ATGGATACAACTAGCTACAGAGAAGCTGCTTGTTGTCATCTCGCAAAGGCTCTCAATGAC\n",
      "TTCAGTAACT\n",
      ">MT066159.1 Severe acute respiratory syndrome coronavirus 2 isolate SARS-CoV-2/CL5049/human/2020/MYS orf1ab polyprotein, RdRp region, (orf1ab) gene, partial cds\n",
      "TAAACACCTCATACCACTTATGTACAAAGGACTTCCTTGGAATGTAGTGCGTATAAAGAT\n",
      "TGTACAAATGTTAAGTGACACACTTAAAAATCTCTCTGACAGAGTCGTATTTGTCTTATG\n",
      "GGCACATGGCTTTGAGTTGACATCTATGAAGTATTTTGTGAAAATAGGACCTGAGCGCAC\n",
      "CTGTTGTCTATGTGATAGACGTGCCACATGCTTTTCCACTGCTTCAGACACTTATGCCTG\n",
      "TTGGCATCATTCTATTGGATTTGATTACGTCTATAATCCGTTTATGATTG\n",
      ">MT050416.1 Severe acute respiratory syndrome coronavirus 2 isolate SARS-CoV-2/QLD03/human/2020_FSS917/AUS ORF1ab polyprotein, RdRp region, gene, partial cds\n",
      "TGATAGAGCCATGCCTAACATGCTTAGAATTATGGCCTCACTTGTTCTTGCTCGCAAACA\n",
      "TACAACGTGTTGTAGCTTGTCACACCGTTTCTATAGATTAGCTAATGAGTGTGCTCAAGT\n",
      "ATTGAGTGAAATGGTCATGTGTGGCGGTTCACTATATGTTAAACCAGGTGGAACCTCATC\n",
      "AGGAGATGCCACAACTGCTTATGCTAATAGTGTTTTTAACATTTGTCAAGCTGTCACGGC\n",
      "CAATGTTAATGCACTTTTATCTACTGATGGTAACAAAATTGCCGATAAGTATGTCCGCAA\n",
      "TTTACAACACAGACTTTATGAGTGTCTCTATAGAAATAGAGATGTTGACACAGACTTTGT\n",
      "GAATGAGTTTTACGCATATTTGCGTAAACATTTCTCAATGATGATACTCTCTGACGATGC\n",
      "TGTTGTGTGTTTCAATAGCACTTATGCATCTCAAGGTCTAGTGGCTAGCATAAAGAACTT\n",
      "TAAGTCAGTTCTTTATTATCAAAACAATGTTTTTATGTCTGAAGCAAAATGTTGGACTGA\n",
      "GACTGACCTTACTAAAGGACCT\n",
      ">MT161607.1 Severe acute respiratory syndrome coronavirus 2 isolate SARS-CoV-2/NIAA05032020/human/2020/ITA 5' UTR\n",
      "TACCTTCCCAGGTAACAAACCAACCAACTTTCGATCTCTTGTAGATCTGTTCTCTAAACG\n",
      "AACTTTAAAATCTGTGTGGCTGTCACTCGGCTGCATGCTTAGTGCACTCACGCAGTATAA\n",
      "TTAATAACTAATTACTGTCGTTGACAGGACACGAGTAACTCGTCTATCTTCTGCAGGCTG\n",
      "CTTACGGTTTCGTCCGTGTTGCAGCCGATCATCAGCACATCTAGGTTTTGTCCGGGTGTG\n",
      "ACCGAAAGGTAAA\n",
      "\n"
     ]
    }
   ],
   "source": [
    "from Bio import SeqIO\n",
    "try:\n",
    "    from StringIO import StringIO ## for Python 2\n",
    "except ImportError:\n",
    "    from io import StringIO ## for Python 3\n",
    "\n",
    "records = SeqIO.parse(\"sarscov2.gbk\", \"genbank\")\n",
    "out_handle = StringIO()\n",
    "SeqIO.write(records, out_handle, \"fasta\")\n",
    "fasta_data = out_handle.getvalue()\n",
    "print(fasta_data)"
   ]
  },
  {
   "cell_type": "code",
   "execution_count": 122,
   "metadata": {},
   "outputs": [
    {
     "data": {
      "text/plain": [
       "5"
      ]
     },
     "execution_count": 122,
     "metadata": {},
     "output_type": "execute_result"
    }
   ],
   "source": [
    "from Bio import SeqIO\n",
    "\n",
    "records = (rec for rec in SeqIO.parse(\"sarscov2.gbk\", \"genbank\") if len(rec) > 100)\n",
    "\n",
    "SeqIO.write(records, \"sarscov2.tab\", \"tab\")"
   ]
  }
 ],
 "metadata": {
  "kernelspec": {
   "display_name": "Python 3",
   "language": "python",
   "name": "python3"
  },
  "language_info": {
   "codemirror_mode": {
    "name": "ipython",
    "version": 3
   },
   "file_extension": ".py",
   "mimetype": "text/x-python",
   "name": "python",
   "nbconvert_exporter": "python",
   "pygments_lexer": "ipython3",
   "version": "3.7.6"
  }
 },
 "nbformat": 4,
 "nbformat_minor": 2
}
